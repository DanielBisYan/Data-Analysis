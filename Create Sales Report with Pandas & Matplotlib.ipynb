{
 "cells": [
  {
   "cell_type": "markdown",
   "metadata": {},
   "source": [
    "# The program calculates the Sales, Orders, Conversion Rate (CR) and Average Order Value (AOV) for 10 different products. The program saves the report to excel file and displays plots, which helps to visualise the report results."
   ]
  },
  {
   "cell_type": "markdown",
   "metadata": {},
   "source": [
    "## First, we need to import necessary libraries, which we gonna use to prepare our analysis"
   ]
  },
  {
   "cell_type": "code",
   "execution_count": 1,
   "metadata": {},
   "outputs": [],
   "source": [
    "import pandas as pd\n",
    "import matplotlib.pyplot as plt"
   ]
  },
  {
   "cell_type": "markdown",
   "metadata": {},
   "source": [
    "## Then, we need to load the excel files with our data and assign it to variables, so it will be easier for us to work with them"
   ]
  },
  {
   "cell_type": "code",
   "execution_count": 2,
   "metadata": {},
   "outputs": [],
   "source": [
    "sales_df = pd.read_excel('sales.xlsx')\n",
    "orders_df = pd.read_excel('orders.xlsx')\n",
    "traffic_df = pd.read_excel('traffic.xlsx')"
   ]
  },
  {
   "cell_type": "markdown",
   "metadata": {},
   "source": [
    "## Now, we need to prepare (clean) the data, so we can easily work with our data and fianlly prepare the final report"
   ]
  },
  {
   "cell_type": "markdown",
   "metadata": {},
   "source": [
    "### Let's start from sales"
   ]
  },
  {
   "cell_type": "code",
   "execution_count": 3,
   "metadata": {},
   "outputs": [
    {
     "data": {
      "text/html": [
       "<div>\n",
       "<style scoped>\n",
       "    .dataframe tbody tr th:only-of-type {\n",
       "        vertical-align: middle;\n",
       "    }\n",
       "\n",
       "    .dataframe tbody tr th {\n",
       "        vertical-align: top;\n",
       "    }\n",
       "\n",
       "    .dataframe thead th {\n",
       "        text-align: right;\n",
       "    }\n",
       "</style>\n",
       "<table border=\"1\" class=\"dataframe\">\n",
       "  <thead>\n",
       "    <tr style=\"text-align: right;\">\n",
       "      <th></th>\n",
       "      <th>Date</th>\n",
       "      <th>A_page1</th>\n",
       "      <th>B_page-x</th>\n",
       "      <th>B_page-w</th>\n",
       "      <th>C-page1</th>\n",
       "      <th>D-page2</th>\n",
       "      <th>E-page3</th>\n",
       "      <th>F=page3</th>\n",
       "      <th>G-page3</th>\n",
       "      <th>H-page1</th>\n",
       "      <th>H-page2</th>\n",
       "      <th>H-pageW</th>\n",
       "      <th>I-page1</th>\n",
       "      <th>J-page3</th>\n",
       "    </tr>\n",
       "  </thead>\n",
       "  <tbody>\n",
       "    <tr>\n",
       "      <th>0</th>\n",
       "      <td>2020-04-01</td>\n",
       "      <td>324</td>\n",
       "      <td>432</td>\n",
       "      <td>89</td>\n",
       "      <td>42</td>\n",
       "      <td>4</td>\n",
       "      <td>23</td>\n",
       "      <td>423</td>\n",
       "      <td>432</td>\n",
       "      <td>4</td>\n",
       "      <td>32</td>\n",
       "      <td>432</td>\n",
       "      <td>432</td>\n",
       "      <td>4</td>\n",
       "    </tr>\n",
       "    <tr>\n",
       "      <th>1</th>\n",
       "      <td>2020-04-02</td>\n",
       "      <td>45</td>\n",
       "      <td>4</td>\n",
       "      <td>324</td>\n",
       "      <td>23</td>\n",
       "      <td>45</td>\n",
       "      <td>4</td>\n",
       "      <td>4</td>\n",
       "      <td>435</td>\n",
       "      <td>3</td>\n",
       "      <td>43</td>\n",
       "      <td>435</td>\n",
       "      <td>43</td>\n",
       "      <td>32</td>\n",
       "    </tr>\n",
       "    <tr>\n",
       "      <th>2</th>\n",
       "      <td>2020-04-03</td>\n",
       "      <td>456</td>\n",
       "      <td>5</td>\n",
       "      <td>98</td>\n",
       "      <td>4</td>\n",
       "      <td>234</td>\n",
       "      <td>43</td>\n",
       "      <td>5</td>\n",
       "      <td>5</td>\n",
       "      <td>4</td>\n",
       "      <td>434</td>\n",
       "      <td>4</td>\n",
       "      <td>5</td>\n",
       "      <td>432</td>\n",
       "    </tr>\n",
       "    <tr>\n",
       "      <th>3</th>\n",
       "      <td>2020-04-04</td>\n",
       "      <td>456</td>\n",
       "      <td>64</td>\n",
       "      <td>977</td>\n",
       "      <td>45</td>\n",
       "      <td>4</td>\n",
       "      <td>5</td>\n",
       "      <td>45</td>\n",
       "      <td>43</td>\n",
       "      <td>453</td>\n",
       "      <td>54</td>\n",
       "      <td>534</td>\n",
       "      <td>3</td>\n",
       "      <td>345</td>\n",
       "    </tr>\n",
       "    <tr>\n",
       "      <th>4</th>\n",
       "      <td>2020-04-05</td>\n",
       "      <td>6</td>\n",
       "      <td>6</td>\n",
       "      <td>98</td>\n",
       "      <td>45</td>\n",
       "      <td>54</td>\n",
       "      <td>543</td>\n",
       "      <td>45</td>\n",
       "      <td>345</td>\n",
       "      <td>5</td>\n",
       "      <td>4</td>\n",
       "      <td>5</td>\n",
       "      <td>43</td>\n",
       "      <td>342</td>\n",
       "    </tr>\n",
       "  </tbody>\n",
       "</table>\n",
       "</div>"
      ],
      "text/plain": [
       "        Date  A_page1  B_page-x  B_page-w  C-page1  D-page2  E-page3  F=page3  \\\n",
       "0 2020-04-01      324       432        89       42        4       23      423   \n",
       "1 2020-04-02       45         4       324       23       45        4        4   \n",
       "2 2020-04-03      456         5        98        4      234       43        5   \n",
       "3 2020-04-04      456        64       977       45        4        5       45   \n",
       "4 2020-04-05        6         6        98       45       54      543       45   \n",
       "\n",
       "   G-page3  H-page1  H-page2  H-pageW  I-page1  J-page3  \n",
       "0      432        4       32      432      432        4  \n",
       "1      435        3       43      435       43       32  \n",
       "2        5        4      434        4        5      432  \n",
       "3       43      453       54      534        3      345  \n",
       "4      345        5        4        5       43      342  "
      ]
     },
     "execution_count": 3,
     "metadata": {},
     "output_type": "execute_result"
    }
   ],
   "source": [
    "sales_df.head()"
   ]
  },
  {
   "cell_type": "markdown",
   "metadata": {},
   "source": [
    "### Since we do not need to calculate sales per day, but per the whole avaible period, let's sum it up and groupby by page"
   ]
  },
  {
   "cell_type": "code",
   "execution_count": 4,
   "metadata": {},
   "outputs": [],
   "source": [
    "sales_df['Date'] = sales_df['Date'].dt.year"
   ]
  },
  {
   "cell_type": "code",
   "execution_count": 5,
   "metadata": {},
   "outputs": [],
   "source": [
    "sales_df = sales_df.groupby('Date').sum()"
   ]
  },
  {
   "cell_type": "code",
   "execution_count": 6,
   "metadata": {},
   "outputs": [],
   "source": [
    "sales_df = sales_df.transpose()"
   ]
  },
  {
   "cell_type": "code",
   "execution_count": 7,
   "metadata": {},
   "outputs": [],
   "source": [
    "sales_df = sales_df.reset_index()\n",
    "sales_df.columns = ['Product','Sales']"
   ]
  },
  {
   "cell_type": "markdown",
   "metadata": {},
   "source": [
    "### Now, we have ready sales data that we can easily filter and sort"
   ]
  },
  {
   "cell_type": "code",
   "execution_count": 8,
   "metadata": {},
   "outputs": [
    {
     "data": {
      "text/html": [
       "<div>\n",
       "<style scoped>\n",
       "    .dataframe tbody tr th:only-of-type {\n",
       "        vertical-align: middle;\n",
       "    }\n",
       "\n",
       "    .dataframe tbody tr th {\n",
       "        vertical-align: top;\n",
       "    }\n",
       "\n",
       "    .dataframe thead th {\n",
       "        text-align: right;\n",
       "    }\n",
       "</style>\n",
       "<table border=\"1\" class=\"dataframe\">\n",
       "  <thead>\n",
       "    <tr style=\"text-align: right;\">\n",
       "      <th></th>\n",
       "      <th>Product</th>\n",
       "      <th>Sales</th>\n",
       "    </tr>\n",
       "  </thead>\n",
       "  <tbody>\n",
       "    <tr>\n",
       "      <th>0</th>\n",
       "      <td>A_page1</td>\n",
       "      <td>2637</td>\n",
       "    </tr>\n",
       "    <tr>\n",
       "      <th>1</th>\n",
       "      <td>B_page-x</td>\n",
       "      <td>2302</td>\n",
       "    </tr>\n",
       "    <tr>\n",
       "      <th>2</th>\n",
       "      <td>B_page-w</td>\n",
       "      <td>2531</td>\n",
       "    </tr>\n",
       "    <tr>\n",
       "      <th>3</th>\n",
       "      <td>C-page1</td>\n",
       "      <td>750</td>\n",
       "    </tr>\n",
       "    <tr>\n",
       "      <th>4</th>\n",
       "      <td>D-page2</td>\n",
       "      <td>4090</td>\n",
       "    </tr>\n",
       "  </tbody>\n",
       "</table>\n",
       "</div>"
      ],
      "text/plain": [
       "    Product  Sales\n",
       "0   A_page1   2637\n",
       "1  B_page-x   2302\n",
       "2  B_page-w   2531\n",
       "3   C-page1    750\n",
       "4   D-page2   4090"
      ]
     },
     "execution_count": 8,
     "metadata": {},
     "output_type": "execute_result"
    }
   ],
   "source": [
    "sales_df.head()"
   ]
  },
  {
   "cell_type": "markdown",
   "metadata": {},
   "source": [
    "### Next, let's do the same for orders"
   ]
  },
  {
   "cell_type": "code",
   "execution_count": 9,
   "metadata": {},
   "outputs": [
    {
     "data": {
      "text/html": [
       "<div>\n",
       "<style scoped>\n",
       "    .dataframe tbody tr th:only-of-type {\n",
       "        vertical-align: middle;\n",
       "    }\n",
       "\n",
       "    .dataframe tbody tr th {\n",
       "        vertical-align: top;\n",
       "    }\n",
       "\n",
       "    .dataframe thead th {\n",
       "        text-align: right;\n",
       "    }\n",
       "</style>\n",
       "<table border=\"1\" class=\"dataframe\">\n",
       "  <thead>\n",
       "    <tr style=\"text-align: right;\">\n",
       "      <th></th>\n",
       "      <th>Product</th>\n",
       "      <th>Orders</th>\n",
       "    </tr>\n",
       "  </thead>\n",
       "  <tbody>\n",
       "    <tr>\n",
       "      <th>0</th>\n",
       "      <td>A_page1</td>\n",
       "      <td>141</td>\n",
       "    </tr>\n",
       "    <tr>\n",
       "      <th>1</th>\n",
       "      <td>B_page-x</td>\n",
       "      <td>153</td>\n",
       "    </tr>\n",
       "    <tr>\n",
       "      <th>2</th>\n",
       "      <td>B_page-w</td>\n",
       "      <td>148</td>\n",
       "    </tr>\n",
       "    <tr>\n",
       "      <th>3</th>\n",
       "      <td>C-page1</td>\n",
       "      <td>107</td>\n",
       "    </tr>\n",
       "    <tr>\n",
       "      <th>4</th>\n",
       "      <td>D-page2</td>\n",
       "      <td>140</td>\n",
       "    </tr>\n",
       "  </tbody>\n",
       "</table>\n",
       "</div>"
      ],
      "text/plain": [
       "    Product  Orders\n",
       "0   A_page1     141\n",
       "1  B_page-x     153\n",
       "2  B_page-w     148\n",
       "3   C-page1     107\n",
       "4   D-page2     140"
      ]
     },
     "execution_count": 9,
     "metadata": {},
     "output_type": "execute_result"
    }
   ],
   "source": [
    "orders_df['Date'] = orders_df['Date'].dt.year\n",
    "orders_df = orders_df.groupby('Date').sum()\n",
    "orders_df = orders_df.transpose()\n",
    "orders_df.head()\n",
    "orders_df = orders_df.reset_index()\n",
    "orders_df.columns = ['Product','Orders']\n",
    "orders_df.head()"
   ]
  },
  {
   "cell_type": "markdown",
   "metadata": {},
   "source": [
    "### Load traffic file to pandas data frame:"
   ]
  },
  {
   "cell_type": "code",
   "execution_count": 10,
   "metadata": {},
   "outputs": [],
   "source": [
    "traffic_df = pd.read_excel('traffic.xlsx')"
   ]
  },
  {
   "cell_type": "markdown",
   "metadata": {},
   "source": [
    "## Our data is cleaned and prepared, let's prepare the analysis that will include sales, orders, traffic, CR and AOS for each product (A, B, C, D, E, F, G, H, I, J). \n",
    "\n",
    "### In order to do so, we have to not only merge our dataframes, but also sort our products by their names and sum their sales and orders. We need to do that because sales for our products comes from different channels, for example B_page-x and B_page-w, these two channels belongs to product B. \n",
    "\n",
    "### Let's create a function to help us prepare the report"
   ]
  },
  {
   "cell_type": "code",
   "execution_count": 11,
   "metadata": {},
   "outputs": [],
   "source": [
    "def generate_report(sales, orders, traffic):\n",
    "    \n",
    "    # Let's define a list, which would include the list of our products\n",
    "    products_list = ['A','B','C','D','E','F','G','H','I','J']\n",
    "    \n",
    "    # Let's define a dictionary, so we can store our data here and then convert it to data frame\n",
    "    report = {\n",
    "        'Product': products_list,\n",
    "        'Sales': [],\n",
    "        'Orders': []\n",
    "    }\n",
    "    \n",
    "    # Let's filter our sales_df and orders_df by the product name, to calculate all sales and orders per product\n",
    "    for product in products_list:\n",
    "        product_sales = sales[sales['Product'].str.contains(product)]['Sales'].sum()\n",
    "        product_orders = orders[orders['Product'].str.contains(product)]['Orders'].sum()\n",
    "        \n",
    "        # Now, let's append the sales and orders of each product to lists in our report dicitonary\n",
    "        report['Sales'].append(product_sales)\n",
    "        report['Orders'].append(product_orders)\n",
    "    \n",
    "    # Converting dictionary to pandas data frame\n",
    "    report_df = pd.DataFrame.from_dict(report)\n",
    "    \n",
    "    # Join traffic_df to report_df\n",
    "    report_df = report_df.join(traffic)\n",
    "    \n",
    "    # Calculate CR & AOV\n",
    "    # CR\n",
    "    report_df['CR'] = round(report_df['Orders']/report_df['Traffic']*100, 2)\n",
    "    \n",
    "    # AOV\n",
    "    report_df['AOV'] = round(report_df['Sales']/report_df['Orders'], 2)\n",
    "    \n",
    "    return report_df\n",
    "    "
   ]
  },
  {
   "cell_type": "markdown",
   "metadata": {},
   "source": [
    "# Now let's generate our report"
   ]
  },
  {
   "cell_type": "code",
   "execution_count": 12,
   "metadata": {},
   "outputs": [],
   "source": [
    "report_df = generate_report(sales_df, orders_df, traffic_df)"
   ]
  },
  {
   "cell_type": "code",
   "execution_count": 13,
   "metadata": {},
   "outputs": [
    {
     "data": {
      "text/html": [
       "<div>\n",
       "<style scoped>\n",
       "    .dataframe tbody tr th:only-of-type {\n",
       "        vertical-align: middle;\n",
       "    }\n",
       "\n",
       "    .dataframe tbody tr th {\n",
       "        vertical-align: top;\n",
       "    }\n",
       "\n",
       "    .dataframe thead th {\n",
       "        text-align: right;\n",
       "    }\n",
       "</style>\n",
       "<table border=\"1\" class=\"dataframe\">\n",
       "  <thead>\n",
       "    <tr style=\"text-align: right;\">\n",
       "      <th></th>\n",
       "      <th>Product</th>\n",
       "      <th>Sales</th>\n",
       "      <th>Orders</th>\n",
       "      <th>Page</th>\n",
       "      <th>Traffic</th>\n",
       "      <th>CR</th>\n",
       "      <th>AOV</th>\n",
       "    </tr>\n",
       "  </thead>\n",
       "  <tbody>\n",
       "    <tr>\n",
       "      <th>0</th>\n",
       "      <td>A</td>\n",
       "      <td>2637</td>\n",
       "      <td>141</td>\n",
       "      <td>A</td>\n",
       "      <td>12432</td>\n",
       "      <td>1.13</td>\n",
       "      <td>18.70</td>\n",
       "    </tr>\n",
       "    <tr>\n",
       "      <th>1</th>\n",
       "      <td>B</td>\n",
       "      <td>4833</td>\n",
       "      <td>301</td>\n",
       "      <td>B</td>\n",
       "      <td>4354352</td>\n",
       "      <td>0.01</td>\n",
       "      <td>16.06</td>\n",
       "    </tr>\n",
       "    <tr>\n",
       "      <th>2</th>\n",
       "      <td>C</td>\n",
       "      <td>750</td>\n",
       "      <td>107</td>\n",
       "      <td>C</td>\n",
       "      <td>32432</td>\n",
       "      <td>0.33</td>\n",
       "      <td>7.01</td>\n",
       "    </tr>\n",
       "    <tr>\n",
       "      <th>3</th>\n",
       "      <td>D</td>\n",
       "      <td>4090</td>\n",
       "      <td>140</td>\n",
       "      <td>D</td>\n",
       "      <td>323432</td>\n",
       "      <td>0.04</td>\n",
       "      <td>29.21</td>\n",
       "    </tr>\n",
       "    <tr>\n",
       "      <th>4</th>\n",
       "      <td>E</td>\n",
       "      <td>675</td>\n",
       "      <td>139</td>\n",
       "      <td>E</td>\n",
       "      <td>4354</td>\n",
       "      <td>3.19</td>\n",
       "      <td>4.86</td>\n",
       "    </tr>\n",
       "    <tr>\n",
       "      <th>5</th>\n",
       "      <td>F</td>\n",
       "      <td>939</td>\n",
       "      <td>187</td>\n",
       "      <td>F</td>\n",
       "      <td>6587657</td>\n",
       "      <td>0.00</td>\n",
       "      <td>5.02</td>\n",
       "    </tr>\n",
       "    <tr>\n",
       "      <th>6</th>\n",
       "      <td>G</td>\n",
       "      <td>1376</td>\n",
       "      <td>104</td>\n",
       "      <td>G</td>\n",
       "      <td>536546</td>\n",
       "      <td>0.02</td>\n",
       "      <td>13.23</td>\n",
       "    </tr>\n",
       "    <tr>\n",
       "      <th>7</th>\n",
       "      <td>H</td>\n",
       "      <td>7842</td>\n",
       "      <td>397</td>\n",
       "      <td>H</td>\n",
       "      <td>92342</td>\n",
       "      <td>0.43</td>\n",
       "      <td>19.75</td>\n",
       "    </tr>\n",
       "    <tr>\n",
       "      <th>8</th>\n",
       "      <td>I</td>\n",
       "      <td>649</td>\n",
       "      <td>157</td>\n",
       "      <td>I</td>\n",
       "      <td>342</td>\n",
       "      <td>45.91</td>\n",
       "      <td>4.13</td>\n",
       "    </tr>\n",
       "    <tr>\n",
       "      <th>9</th>\n",
       "      <td>J</td>\n",
       "      <td>1568</td>\n",
       "      <td>133</td>\n",
       "      <td>J</td>\n",
       "      <td>14214</td>\n",
       "      <td>0.94</td>\n",
       "      <td>11.79</td>\n",
       "    </tr>\n",
       "  </tbody>\n",
       "</table>\n",
       "</div>"
      ],
      "text/plain": [
       "  Product  Sales  Orders Page  Traffic     CR    AOV\n",
       "0       A   2637     141    A    12432   1.13  18.70\n",
       "1       B   4833     301    B  4354352   0.01  16.06\n",
       "2       C    750     107    C    32432   0.33   7.01\n",
       "3       D   4090     140    D   323432   0.04  29.21\n",
       "4       E    675     139    E     4354   3.19   4.86\n",
       "5       F    939     187    F  6587657   0.00   5.02\n",
       "6       G   1376     104    G   536546   0.02  13.23\n",
       "7       H   7842     397    H    92342   0.43  19.75\n",
       "8       I    649     157    I      342  45.91   4.13\n",
       "9       J   1568     133    J    14214   0.94  11.79"
      ]
     },
     "execution_count": 13,
     "metadata": {},
     "output_type": "execute_result"
    }
   ],
   "source": [
    "report_df"
   ]
  },
  {
   "cell_type": "markdown",
   "metadata": {},
   "source": [
    "## Save it to excel file"
   ]
  },
  {
   "cell_type": "code",
   "execution_count": 14,
   "metadata": {},
   "outputs": [],
   "source": [
    "report_df.to_excel('report.xlsx')"
   ]
  },
  {
   "cell_type": "markdown",
   "metadata": {},
   "source": [
    "# Let's visualize our data"
   ]
  },
  {
   "cell_type": "markdown",
   "metadata": {},
   "source": [
    "### Sales"
   ]
  },
  {
   "cell_type": "code",
   "execution_count": 15,
   "metadata": {},
   "outputs": [
    {
     "data": {
      "image/png": "[encoded data removed]",
      "text/plain": [
       "<Figure size 720x432 with 1 Axes>"
      ]
     },
     "metadata": {
      "needs_background": "light"
     },
     "output_type": "display_data"
    }
   ],
   "source": [
    "plt.figure(figsize=(10,6))\n",
    "plt.bar(report_df['Product'], report_df['Sales'])\n",
    "plt.title('Sales', fontsize=18)\n",
    "plt.xlabel(\"Product\", fontsize=14)\n",
    "plt.ylabel(\"Sales in USD\", fontsize=14)\n",
    "plt.show()"
   ]
  },
  {
   "cell_type": "code",
   "execution_count": 16,
   "metadata": {},
   "outputs": [
    {
     "data": {
      "image/png": "[encoded data removed]",
      "text/plain": [
       "<Figure size 576x576 with 1 Axes>"
      ]
     },
     "metadata": {},
     "output_type": "display_data"
    }
   ],
   "source": [
    "explode = (0.1, 0, 0, 0, 0, 0, 0, 0, 0, 0)  # only \"explode\" the 1st slice\n",
    "fig1, ax1 = plt.subplots(figsize=(8, 8))\n",
    "ax1.pie(report_df['Sales'], explode=explode, labels=report_df['Product'], autopct='%1.1f%%',\n",
    "        shadow=True, startangle=90)\n",
    "ax1.axis('equal')  # Equal aspect ratio ensures that pie is drawn as a circle.\n",
    "plt.show()"
   ]
  },
  {
   "cell_type": "markdown",
   "metadata": {},
   "source": [
    "### Orders"
   ]
  },
  {
   "cell_type": "code",
   "execution_count": null,
   "metadata": {},
   "outputs": [],
   "source": [
    "plt.figure(figsize=(10,6))\n",
    "plt.bar(report_df['Product'], report_df['Orders'])\n",
    "plt.title('Orders', fontsize=18)\n",
    "plt.xlabel(\"Product\", fontsize=14)\n",
    "plt.ylabel(\"Number of orders\", fontsize=14)\n",
    "plt.show()"
   ]
  }
 ],
 "metadata": {
  "kernelspec": {
   "display_name": "Python 3",
   "language": "python",
   "name": "python3"
  },
  "language_info": {
   "codemirror_mode": {
    "name": "ipython",
    "version": 3
   },
   "file_extension": ".py",
   "mimetype": "text/x-python",
   "name": "python",
   "nbconvert_exporter": "python",
   "pygments_lexer": "ipython3",
   "version": "3.7.6"
  }
 },
 "nbformat": 4,
 "nbformat_minor": 4
}
